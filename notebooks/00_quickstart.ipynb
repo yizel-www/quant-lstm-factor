{
 "cells": [
  {
   "cell_type": "code",
   "execution_count": null,
   "id": "27293c3e-cb34-463c-ba78-b46ffebca41d",
   "metadata": {},
   "outputs": [],
   "source": [
    "pip install yfinance"
   ]
  },
  {
   "cell_type": "code",
   "execution_count": null,
   "id": "d81aa105-860d-48e0-87fb-532639b1e3cc",
   "metadata": {},
   "outputs": [],
   "source": [
    "import yfinance as yf, pandas as pd, numpy as np\n",
    "import matplotlib.pyplot as plt\n",
    "\n",
    "# 1) 下载数据\n",
    "df = yf.download(\"SPY\", start=\"2015-01-01\", auto_adjust=True)\n",
    "df[\"ret\"] = df[\"Close\"].pct_change()\n",
    "df[\"ret_fwd1\"] = df[\"ret\"].shift(-1)\n",
    "\n",
    "# 2) 简易特征：动量 + 波动\n",
    "df[\"mom_5\"] = (df[\"Close\"]/df[\"Close\"].shift(5)-1)\n",
    "df[\"vol_10\"] = df[\"ret\"].rolling(10).std()\n",
    "features = [\"mom_5\",\"vol_10\"]\n",
    "data = df.dropna().copy()\n",
    "\n",
    "# 3) 训练/测试拆分\n",
    "split = int(len(data)*0.8)\n",
    "X = data[features].values\n",
    "y = np.sign(data[\"ret_fwd1\"].values)  # 方向预测（-1/0/1）\n",
    "\n",
    "X_train, X_test = X[:split], X[split:]\n",
    "y_train, y_test = y[:split], y[split:]\n",
    "\n",
    "print(f\"Train {X_train.shape}  Test {X_test.shape}\")\n",
    "\n",
    "# 4) 可视化一下\n",
    "data[[\"Close\"]].plot(figsize=(8,3)); plt.title(\"SPY Close\"); plt.show()"
   ]
  },
  {
   "cell_type": "code",
   "execution_count": null,
   "id": "93004300-5d65-4d26-b677-53b29fb4209f",
   "metadata": {},
   "outputs": [],
   "source": []
  }
 ],
 "metadata": {
  "kernelspec": {
   "display_name": "Python (qlf)",
   "language": "python",
   "name": "qlf"
  },
  "language_info": {
   "codemirror_mode": {
    "name": "ipython",
    "version": 3
   },
   "file_extension": ".py",
   "mimetype": "text/x-python",
   "name": "python",
   "nbconvert_exporter": "python",
   "pygments_lexer": "ipython3",
   "version": "3.10.18"
  }
 },
 "nbformat": 4,
 "nbformat_minor": 5
}
